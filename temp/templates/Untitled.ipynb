{
 "cells": [
  {
   "cell_type": "code",
   "execution_count": 1,
   "id": "5cecf7cf-5a12-418d-a0b6-a7740688cafb",
   "metadata": {
    "tags": []
   },
   "outputs": [
    {
     "name": "stdout",
     "output_type": "stream",
     "text": [
      "Requirement already satisfied: flask in c:\\users\\danielbilonic\\anaconda3\\lib\\site-packages (2.2.2)Note: you may need to restart the kernel to use updated packages.\n",
      "\n",
      "Collecting flask-login\n",
      "  Obtaining dependency information for flask-login from https://files.pythonhosted.org/packages/59/f5/67e9cc5c2036f58115f9fe0f00d203cf6780c3ff8ae0e705e7a9d9e8ff9e/Flask_Login-0.6.3-py3-none-any.whl.metadata\n",
      "  Downloading Flask_Login-0.6.3-py3-none-any.whl.metadata (5.8 kB)\n",
      "Collecting flask-wtf\n",
      "  Obtaining dependency information for flask-wtf from https://files.pythonhosted.org/packages/dc/19/354449145fbebb65e7c621235b6ad69bebcfaec2142481f044d0ddc5b5c5/flask_wtf-1.2.2-py3-none-any.whl.metadata\n",
      "  Downloading flask_wtf-1.2.2-py3-none-any.whl.metadata (3.4 kB)\n",
      "Requirement already satisfied: werkzeug in c:\\users\\danielbilonic\\anaconda3\\lib\\site-packages (2.2.3)\n",
      "Requirement already satisfied: Jinja2>=3.0 in c:\\users\\danielbilonic\\anaconda3\\lib\\site-packages (from flask) (3.1.2)\n",
      "Requirement already satisfied: itsdangerous>=2.0 in c:\\users\\danielbilonic\\anaconda3\\lib\\site-packages (from flask) (2.0.1)\n",
      "Requirement already satisfied: click>=8.0 in c:\\users\\danielbilonic\\anaconda3\\lib\\site-packages (from flask) (8.0.4)\n",
      "Collecting wtforms (from flask-wtf)\n",
      "  Obtaining dependency information for wtforms from https://files.pythonhosted.org/packages/08/c9/2088fb5645cd289c99ebe0d4cdcc723922a1d8e1beaefb0f6f76dff9b21c/wtforms-3.2.1-py3-none-any.whl.metadata\n",
      "  Downloading wtforms-3.2.1-py3-none-any.whl.metadata (5.3 kB)\n",
      "Requirement already satisfied: MarkupSafe>=2.1.1 in c:\\users\\danielbilonic\\anaconda3\\lib\\site-packages (from werkzeug) (2.1.1)\n",
      "Requirement already satisfied: colorama in c:\\users\\danielbilonic\\anaconda3\\lib\\site-packages (from click>=8.0->flask) (0.4.6)\n",
      "Downloading Flask_Login-0.6.3-py3-none-any.whl (17 kB)\n",
      "Downloading flask_wtf-1.2.2-py3-none-any.whl (12 kB)\n",
      "Downloading wtforms-3.2.1-py3-none-any.whl (152 kB)\n",
      "   ---------------------------------------- 0.0/152.5 kB ? eta -:--:--\n",
      "   ---------------------------------------- 152.5/152.5 kB ? eta 0:00:00\n",
      "Installing collected packages: wtforms, flask-wtf, flask-login\n",
      "Successfully installed flask-login-0.6.3 flask-wtf-1.2.2 wtforms-3.2.1\n"
     ]
    }
   ],
   "source": [
    "pip install flask flask-login flask-wtf werkzeug\n"
   ]
  },
  {
   "cell_type": "code",
   "execution_count": null,
   "id": "2d73318a-5033-44a0-a1f0-bacd656fb6ef",
   "metadata": {},
   "outputs": [],
   "source": []
  }
 ],
 "metadata": {
  "kernelspec": {
   "display_name": "Python 3 (ipykernel)",
   "language": "python",
   "name": "python3"
  },
  "language_info": {
   "codemirror_mode": {
    "name": "ipython",
    "version": 3
   },
   "file_extension": ".py",
   "mimetype": "text/x-python",
   "name": "python",
   "nbconvert_exporter": "python",
   "pygments_lexer": "ipython3",
   "version": "3.11.4"
  }
 },
 "nbformat": 4,
 "nbformat_minor": 5
}
