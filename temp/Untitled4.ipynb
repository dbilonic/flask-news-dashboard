{
 "cells": [
  {
   "cell_type": "code",
   "execution_count": 1,
   "id": "23c5d199-6d50-47ac-b9c5-2eef1612c4fa",
   "metadata": {
    "tags": []
   },
   "outputs": [
    {
     "name": "stdout",
     "output_type": "stream",
     "text": [
      "✅ requirements.txt file created successfully!\n"
     ]
    }
   ],
   "source": [
    "import os\n",
    "\n",
    "# Run pip freeze inside Python and write output to file\n",
    "with open(\"requirements.txt\", \"w\") as f:\n",
    "    f.write(os.popen(\"pip freeze\").read())\n",
    "\n",
    "print(\"✅ requirements.txt file created successfully!\")\n"
   ]
  },
  {
   "cell_type": "code",
   "execution_count": null,
   "id": "6ca8d5d7-8950-4e66-876c-b0b0dc13c7ac",
   "metadata": {},
   "outputs": [],
   "source": []
  }
 ],
 "metadata": {
  "kernelspec": {
   "display_name": "Python 3 (ipykernel)",
   "language": "python",
   "name": "python3"
  },
  "language_info": {
   "codemirror_mode": {
    "name": "ipython",
    "version": 3
   },
   "file_extension": ".py",
   "mimetype": "text/x-python",
   "name": "python",
   "nbconvert_exporter": "python",
   "pygments_lexer": "ipython3",
   "version": "3.11.4"
  }
 },
 "nbformat": 4,
 "nbformat_minor": 5
}
